{
 "cells": [
  {
   "cell_type": "code",
   "execution_count": 1,
   "id": "af426459",
   "metadata": {},
   "outputs": [],
   "source": [
    "import os\n",
    "import tarfile\n",
    "import tempfile\n",
    "from PIL import Image\n",
    "from torch.utils.data import Dataset, DataLoader\n",
    "from torchvision import transforms"
   ]
  },
  {
   "cell_type": "code",
   "execution_count": null,
   "id": "1db098c6",
   "metadata": {},
   "outputs": [
    {
     "name": "stderr",
     "output_type": "stream",
     "text": [
      "C:\\Users\\moah\\AppData\\Local\\Temp\\ipykernel_9956\\4090310696.py:5: DeprecationWarning: Python 3.14 will, by default, filter extracted tar archives and reject files or modify their metadata. Use the filter argument to control this behavior.\n",
      "  tar.extractall(path=temp_dir)\n"
     ]
    }
   ],
   "source": [
    "temp_dir = tempfile.mkdtemp()\n",
    "\n",
    "with tarfile.open('../ip102_v1.1.tar', \"r\") as tar:\n",
    "    tar.extractall(path=temp_dir)"
   ]
  },
  {
   "cell_type": "code",
   "execution_count": 16,
   "id": "9404fd86",
   "metadata": {},
   "outputs": [],
   "source": [
    "def load_split_file(file_path):\n",
    "    with open(file_path,'r') as f:\n",
    "        lines= f.readlines()\n",
    "    samples = []\n",
    "    for line in lines:\n",
    "        path, label= line.strip().split()\n",
    "        samples.append((path, int(label)))\n",
    "    return samples\n"
   ]
  },
  {
   "cell_type": "code",
   "execution_count": 17,
   "id": "0e5253d3",
   "metadata": {},
   "outputs": [],
   "source": [
    "dataset_root = os.path.join(temp_dir, \"ip102_v1.1\")\n",
    "train_txt = os.path.join(dataset_root, \"train.txt\")\n",
    "val_txt = os.path.join(dataset_root, \"val.txt\")\n",
    "test_txt = os.path.join(dataset_root, \"test.txt\")\n",
    "\n",
    "train_data = load_split_file(train_txt)\n",
    "test_data = load_split_file(test_txt)\n",
    "val_data = load_split_file(val_txt)"
   ]
  },
  {
   "cell_type": "code",
   "execution_count": 30,
   "id": "2d11bb6c",
   "metadata": {},
   "outputs": [],
   "source": [
    "class CustomImageDataset(Dataset):\n",
    "    def __init__(self,data_list,root_dir,transform=None):\n",
    "        self.data_list = data_list\n",
    "        self.root_dir = root_dir    \n",
    "        self.transform = transform\n",
    "\n",
    "    def __len__(self):\n",
    "        return len(self.data_list)\n",
    "    \n",
    "    def __getitem__(self, idx):\n",
    "        path, label = self.data_list[idx]\n",
    "        image_path= os.path.join(self.root_dir,path)\n",
    "        image= Image.open(image_path)\n",
    "\n",
    "        if self.transform:\n",
    "            image = self.transform(image)\n",
    "\n",
    "        return image, label"
   ]
  },
  {
   "cell_type": "code",
   "execution_count": 31,
   "id": "fe928342",
   "metadata": {},
   "outputs": [],
   "source": [
    "transform = transforms.Compose([\n",
    "    transforms.Resize((224, 224)),\n",
    "    transforms.ToTensor()\n",
    "])\n",
    "\n",
    "train_dataset = CustomImageDataset(train_data, dataset_root, transform=transform)\n",
    "val_dataset = CustomImageDataset(val_data, dataset_root, transform=transform)\n",
    "test_dataset = CustomImageDataset(test_data, dataset_root, transform=transform)"
   ]
  },
  {
   "cell_type": "code",
   "execution_count": 32,
   "id": "afc4a46b",
   "metadata": {},
   "outputs": [],
   "source": [
    "train_loader = DataLoader(train_dataset, batch_size=32, shuffle=True)\n",
    "val_loader = DataLoader(val_dataset, batch_size=32, shuffle=False)\n",
    "test_loader = DataLoader(test_dataset, batch_size=32, shuffle=False)\n"
   ]
  }
 ],
 "metadata": {
  "kernelspec": {
   "display_name": "base",
   "language": "python",
   "name": "python3"
  },
  "language_info": {
   "codemirror_mode": {
    "name": "ipython",
    "version": 3
   },
   "file_extension": ".py",
   "mimetype": "text/x-python",
   "name": "python",
   "nbconvert_exporter": "python",
   "pygments_lexer": "ipython3",
   "version": "3.12.7"
  }
 },
 "nbformat": 4,
 "nbformat_minor": 5
}
